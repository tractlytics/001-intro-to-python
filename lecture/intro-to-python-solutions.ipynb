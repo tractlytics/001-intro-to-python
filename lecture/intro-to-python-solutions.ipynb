{
 "cells": [
  {
   "cell_type": "code",
   "execution_count": 2,
   "metadata": {},
   "outputs": [],
   "source": [
    "# 1.1 Our First Jupyter Cell\n",
    "# Select this cell and execute it by clicking run or using the shortcut, ctrl + enter\n",
    "# This will display the \"Zen of Python,\" describing the philosophy behind python\n",
    "import this\n",
    "import time"
   ]
  },
  {
   "cell_type": "code",
   "execution_count": 3,
   "metadata": {},
   "outputs": [
    {
     "name": "stdout",
     "output_type": "stream",
     "text": [
      "Whasaaaap party people, my name is Hugh Mann and I am frozen with joy right where I stand about learning python.\n"
     ]
    }
   ],
   "source": [
    "#testing\n",
    "#guess what\n",
    "\n",
    "# 1.2 Introduce Yourself\n",
    "# Define the variables greeting, name, and mood, and assign them string-type values\n",
    "# Then, execute this cell to see an introduction message printed to the console\n",
    "greeting = \"Whasaaaap party people ffffff\"\n",
    "name = \"Hugh Mann\"\n",
    "mood = \"frozen with joy right where I stand\"\n",
    "print(greeting + \", my name is \" + name + \" and I am \" + mood + \" about learning python.\")"
   ]
  },
  {
   "cell_type": "code",
   "execution_count": 3,
   "metadata": {
    "scrolled": true
   },
   "outputs": [
    {
     "name": "stdout",
     "output_type": "stream",
     "text": [
      "6.02\n"
     ]
    }
   ],
   "source": [
    "# 1.3 Operators and Updating Variables\n",
    "# Define numeric variables for the month and day of your birthdate to be used whenever requested\n",
    "month = 6\n",
    "day = 2\n",
    "# Write a new line of code beneath each comment, always updating the birthdate variable as you do so\n",
    "birthdate = 7\n",
    "# Multiply by the month \n",
    "birthdate = birthdate * month\n",
    "# Subtract 1\n",
    "birthdate -= 1\n",
    "# Multiply by 13\n",
    "birthdate *= 13\n",
    "# Add the day of your birth\n",
    "birthdate += day\n",
    "# Add 3\n",
    "birthdate = birthdate + 3\n",
    "# Multiply by 11\n",
    "birthdate *= 11\n",
    "# Subtract the month of your birth\n",
    "birthdate -= month\n",
    "# Subtract the day of your birth\n",
    "birthdate -= day\n",
    "# Divide by 10\n",
    "birthdate /= 10\n",
    "# Add 11\n",
    "birthdate += 11\n",
    "# Divide by 100\n",
    "birthdate /= 100\n",
    "# birthdate should now be a floating point number with the day.month of your birthday\n",
    "print(birthdate)"
   ]
  },
  {
   "cell_type": "code",
   "execution_count": 4,
   "metadata": {},
   "outputs": [],
   "source": [
    "# 1.4 Python Mad Libs\n",
    "# Create a Mad Libs style game using string concatenation or the \"f-string\" style string interpolation\n",
    "# First, define at least 7 variables with names such as adjective_one or noun_three\n",
    "# Then, plug those variables into a long string that tells a story using those variables\n",
    "adjective_one = \"fuzzy\"\n",
    "adjective_two = \"preposterous\"\n",
    "adjective_three = \"slippery\"\n",
    "noun_one = \"salad tongs\"\n",
    "noun_two = \"ancestral sword\"\n",
    "verb_one = \"pounced\"\n",
    "verb_two = \"roasted\"\n",
    "\n",
    "first_day_at_camp = f\"When I was 9, my parents sent me to Camp {noun_one} by the shores of {adjective_one} Lake. The {adjective_two} counselors gave us {noun_two}s to play with, and we {verb_one} and {verb_two} in the Lake all day. It was a {adjective_three} summer I will never forget\""
   ]
  },
  {
   "cell_type": "code",
   "execution_count": 5,
   "metadata": {},
   "outputs": [
    {
     "name": "stdout",
     "output_type": "stream",
     "text": [
      "When I was 9, my parents sent me to Camp salad tongs by the shores of fuzzy Lake. The preposterous counselors gave us ancestral swords to play with, and we pounced and roasted in the Lake all day. It was a slippery summer I will never forget\n"
     ]
    }
   ],
   "source": [
    "print(first_day_at_camp)"
   ]
  },
  {
   "cell_type": "code",
   "execution_count": null,
   "metadata": {},
   "outputs": [],
   "source": [
    "# 1.5 Code Fast and Break Things\n",
    "# Each of the following lines of code is mistaken in some way\n",
    "# Either they contain errors or don't do what the user would expect them to\n",
    "# Correct each example, and write a comment explaining what went wrong"
   ]
  },
  {
   "cell_type": "code",
   "execution_count": 6,
   "metadata": {},
   "outputs": [
    {
     "name": "stdout",
     "output_type": "stream",
     "text": [
      "Hello\n"
     ]
    }
   ],
   "source": [
    "# A.\n",
    "my_variable = \"Hello\"\n",
    "print(my_variable)\n",
    "# The variable had no value, so nothing printed"
   ]
  },
  {
   "cell_type": "code",
   "execution_count": 7,
   "metadata": {},
   "outputs": [
    {
     "name": "stdout",
     "output_type": "stream",
     "text": [
      "10\n"
     ]
    }
   ],
   "source": [
    "# B.\n",
    "# Why didn't it print ten?\n",
    "my_number = 5\n",
    "my_number += 5\n",
    "print(my_number)\n",
    "# We needed to re-assign the value using the assignment operator, ="
   ]
  },
  {
   "cell_type": "code",
   "execution_count": 8,
   "metadata": {},
   "outputs": [
    {
     "name": "stdout",
     "output_type": "stream",
     "text": [
      "5Hello\n"
     ]
    }
   ],
   "source": [
    "# C.\n",
    "my_num = 5\n",
    "my_string = \"Hello\"\n",
    "print(str(my_num) + my_string)\n",
    "# We can use typecasting to ensure both data types match as needed"
   ]
  },
  {
   "cell_type": "code",
   "execution_count": 9,
   "metadata": {},
   "outputs": [
    {
     "name": "stdout",
     "output_type": "stream",
     "text": [
      "30\n"
     ]
    }
   ],
   "source": [
    "# D.\n",
    "# The user expected the result to be 30!\n",
    "my_num1 = \"10\"\n",
    "my_num2 = \"20\"\n",
    "print(int(my_num1) + int(my_num2))\n",
    "# We could also have changed the original definitions to not use quotes! "
   ]
  },
  {
   "cell_type": "code",
   "execution_count": 10,
   "metadata": {},
   "outputs": [
    {
     "name": "stdout",
     "output_type": "stream",
     "text": [
      "I enjoy python in the morning\n"
     ]
    }
   ],
   "source": [
    "# E.\n",
    "# The user expected the message to read \"I enjoy python in the morning.\"\n",
    "language = \"python\"\n",
    "print(f\"I enjoy {language} in the morning\")\n",
    "# We were missing the brackets around the variable name"
   ]
  },
  {
   "cell_type": "code",
   "execution_count": 12,
   "metadata": {},
   "outputs": [
    {
     "name": "stdout",
     "output_type": "stream",
     "text": [
      "There are 2 plums at home for me\n"
     ]
    }
   ],
   "source": [
    "# F.\n",
    "# The user expected the message to read \"There are 2 plums at home for me\"\n",
    "number_of_plums = 2\n",
    "who_plums_are_for = \"me\"\n",
    "print(\"There are \" + str(number_of_plums) + \" plums at home for \" + who_plums_are_for)\n",
    "# We needed quotes around the string, otherwise python considers it a variable name"
   ]
  },
  {
   "cell_type": "code",
   "execution_count": 13,
   "metadata": {
    "scrolled": true
   },
   "outputs": [
    {
     "name": "stdout",
     "output_type": "stream",
     "text": [
      "Monday is the best day of the week\n",
      "Monday is the best day of the week\n",
      "Monday is the best day of the week\n",
      "Monday is the best day of the week\n"
     ]
    }
   ],
   "source": [
    "# 1.6 How many ways to print with variables\n",
    "# Programming provides many ways of doing the same thing\n",
    "# We've learned about concatenation and f-string interpolation so far\n",
    "# Below, research and demonstrate four different ways of including variables in a string in python\n",
    "# You don't need to understand exactly how they're working to get them to work!\n",
    "day = \"Monday\"\n",
    "print(day + \" is the best day of the week\")\n",
    "print(f\"{day} is the best day of the week\")\n",
    "print(\"%s is the best day of the week\" %day)\n",
    "print(\"{} is the best day of the week\".format(day))"
   ]
  },
  {
   "cell_type": "code",
   "execution_count": null,
   "metadata": {},
   "outputs": [],
   "source": []
  }
 ],
 "metadata": {
  "kernelspec": {
   "display_name": "default:Python",
   "language": "python",
   "name": "conda-env-default-py"
  },
  "language_info": {
   "codemirror_mode": {
    "name": "ipython",
    "version": 3
   },
   "file_extension": ".py",
   "mimetype": "text/x-python",
   "name": "python",
   "nbconvert_exporter": "python",
   "pygments_lexer": "ipython3",
   "version": "3.9.13"
  }
 },
 "nbformat": 4,
 "nbformat_minor": 4
}
